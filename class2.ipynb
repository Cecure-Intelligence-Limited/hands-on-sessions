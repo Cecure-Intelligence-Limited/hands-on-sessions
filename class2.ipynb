{
 "cells": [
  {
   "cell_type": "code",
   "execution_count": 3,
   "id": "14bf4c40",
   "metadata": {},
   "outputs": [
    {
     "data": {
      "text/plain": [
       "'Hello Class. How are we all doing?'"
      ]
     },
     "execution_count": 3,
     "metadata": {},
     "output_type": "execute_result"
    }
   ],
   "source": [
    "'Hello Class' + \".\" + \" \" + \"How are we all doing?\""
   ]
  },
  {
   "cell_type": "markdown",
   "id": "05045ede",
   "metadata": {},
   "source": [
    "###### BOOLEAN\n",
    "###### LIST\n",
    "###### Dictionary\n",
    "###### Tuple\n",
    "###### SET\n",
    "###### NoneType"
   ]
  },
  {
   "cell_type": "code",
   "execution_count": 6,
   "id": "fb59aa33",
   "metadata": {},
   "outputs": [
    {
     "data": {
      "text/plain": [
       "['apple', 'noodles', 'onions', 'cheeseballs']"
      ]
     },
     "execution_count": 6,
     "metadata": {},
     "output_type": "execute_result"
    }
   ],
   "source": [
    "# LIST - ARRAY\n",
    "\n",
    "['apple', 'noodles', 'onions', 'cheeseballs']"
   ]
  },
  {
   "cell_type": "code",
   "execution_count": 7,
   "id": "75ce1ea8",
   "metadata": {},
   "outputs": [
    {
     "data": {
      "text/plain": [
       "list"
      ]
     },
     "execution_count": 7,
     "metadata": {},
     "output_type": "execute_result"
    }
   ],
   "source": [
    "type(['apple', 'noodles', 'onions', 'cheeseballs'])"
   ]
  },
  {
   "cell_type": "code",
   "execution_count": 10,
   "id": "45e1b0a2",
   "metadata": {},
   "outputs": [
    {
     "data": {
      "text/plain": [
       "['apple', 'noodles', 'onions', 'cheeseballs', 5, 8.0, 'A sentence']"
      ]
     },
     "execution_count": 10,
     "metadata": {},
     "output_type": "execute_result"
    }
   ],
   "source": [
    "['apple', 'noodles', 'onions', 'cheeseballs', 5, 8.0, 'A sentence'] # anything"
   ]
  },
  {
   "cell_type": "code",
   "execution_count": 11,
   "id": "624d439d",
   "metadata": {},
   "outputs": [
    {
     "data": {
      "text/plain": [
       "['apple', 'noodles', 'onions', 'cheeseballs', 5, 8.0, 'A sentence', 'apple']"
      ]
     },
     "execution_count": 11,
     "metadata": {},
     "output_type": "execute_result"
    }
   ],
   "source": [
    "['apple', 'noodles', 'onions', 'cheeseballs', 5, 8.0, 'A sentence', 'apple'] # duplicates"
   ]
  },
  {
   "cell_type": "code",
   "execution_count": null,
   "id": "79b749df",
   "metadata": {},
   "outputs": [],
   "source": [
    "random_list = ['apple', 'noodles', 'onions',\n",
    "               'cheeseballs', 5, 8.0, 'A sentence', 'apple' ]"
   ]
  },
  {
   "cell_type": "code",
   "execution_count": 13,
   "id": "035a90b6",
   "metadata": {},
   "outputs": [
    {
     "data": {
      "text/plain": [
       "['apple', 'noodles', 'onions', 'cheeseballs', 5, 8.0, 'A sentence', 'apple']"
      ]
     },
     "execution_count": 13,
     "metadata": {},
     "output_type": "execute_result"
    }
   ],
   "source": [
    "random_list"
   ]
  },
  {
   "cell_type": "code",
   "execution_count": 14,
   "id": "5678e6d1",
   "metadata": {},
   "outputs": [],
   "source": [
    "name = 'James Teddy'"
   ]
  },
  {
   "cell_type": "code",
   "execution_count": 15,
   "id": "8f1b54c8",
   "metadata": {},
   "outputs": [
    {
     "data": {
      "text/plain": [
       "'James Teddy'"
      ]
     },
     "execution_count": 15,
     "metadata": {},
     "output_type": "execute_result"
    }
   ],
   "source": [
    "name"
   ]
  },
  {
   "cell_type": "code",
   "execution_count": 16,
   "id": "0cfff25f",
   "metadata": {},
   "outputs": [
    {
     "data": {
      "text/plain": [
       "'Hello Guys, my name is James Teddy'"
      ]
     },
     "execution_count": 16,
     "metadata": {},
     "output_type": "execute_result"
    }
   ],
   "source": [
    "'Hello Guys, my name is ' + name"
   ]
  },
  {
   "cell_type": "code",
   "execution_count": 17,
   "id": "02298027",
   "metadata": {},
   "outputs": [
    {
     "data": {
      "text/plain": [
       "['apple', 'noodles', 'onions', 'cheeseballs', 5, 8.0, 'A sentence', 'apple']"
      ]
     },
     "execution_count": 17,
     "metadata": {},
     "output_type": "execute_result"
    }
   ],
   "source": [
    "random_list"
   ]
  },
  {
   "cell_type": "code",
   "execution_count": 18,
   "id": "c941c8cf",
   "metadata": {},
   "outputs": [
    {
     "data": {
      "text/plain": [
       "'apple'"
      ]
     },
     "execution_count": 18,
     "metadata": {},
     "output_type": "execute_result"
    }
   ],
   "source": [
    "random_list[0] "
   ]
  },
  {
   "cell_type": "code",
   "execution_count": 19,
   "id": "9307c23e",
   "metadata": {},
   "outputs": [
    {
     "data": {
      "text/plain": [
       "'apple'"
      ]
     },
     "execution_count": 19,
     "metadata": {},
     "output_type": "execute_result"
    }
   ],
   "source": [
    "random_list[7]"
   ]
  },
  {
   "cell_type": "code",
   "execution_count": 20,
   "id": "7939bd9c",
   "metadata": {},
   "outputs": [
    {
     "data": {
      "text/plain": [
       "'A sentence'"
      ]
     },
     "execution_count": 20,
     "metadata": {},
     "output_type": "execute_result"
    }
   ],
   "source": [
    "random_list[6]"
   ]
  },
  {
   "cell_type": "code",
   "execution_count": 21,
   "id": "6c2e2c33",
   "metadata": {},
   "outputs": [],
   "source": [
    "random_list2 = ['apple', 'noodles', 'onions', name]"
   ]
  },
  {
   "cell_type": "code",
   "execution_count": 23,
   "id": "d182de25",
   "metadata": {},
   "outputs": [
    {
     "data": {
      "text/plain": [
       "['apple', 'noodles', 'onions', 'James Teddy']"
      ]
     },
     "execution_count": 23,
     "metadata": {},
     "output_type": "execute_result"
    }
   ],
   "source": [
    "random_list2"
   ]
  },
  {
   "cell_type": "code",
   "execution_count": 24,
   "id": "6d1fb1d9",
   "metadata": {},
   "outputs": [
    {
     "data": {
      "text/plain": [
       "'James Teddy'"
      ]
     },
     "execution_count": 24,
     "metadata": {},
     "output_type": "execute_result"
    }
   ],
   "source": [
    "random_list2[-1] "
   ]
  },
  {
   "cell_type": "code",
   "execution_count": 26,
   "id": "1c8e3b3b",
   "metadata": {},
   "outputs": [
    {
     "data": {
      "text/plain": [
       "['apple', 'noodles', 'onions']"
      ]
     },
     "execution_count": 26,
     "metadata": {},
     "output_type": "execute_result"
    }
   ],
   "source": [
    "random_list2[0:3]"
   ]
  },
  {
   "cell_type": "code",
   "execution_count": 27,
   "id": "431c3348",
   "metadata": {},
   "outputs": [
    {
     "data": {
      "text/plain": [
       "['apple', 'noodles', 'onions']"
      ]
     },
     "execution_count": 27,
     "metadata": {},
     "output_type": "execute_result"
    }
   ],
   "source": [
    "random_list2[:3]"
   ]
  },
  {
   "cell_type": "code",
   "execution_count": 31,
   "id": "cce3343a",
   "metadata": {},
   "outputs": [
    {
     "data": {
      "text/plain": [
       "['apple', 'noodles', 'onions', 'James Teddy']"
      ]
     },
     "execution_count": 31,
     "metadata": {},
     "output_type": "execute_result"
    }
   ],
   "source": [
    "random_list2"
   ]
  },
  {
   "cell_type": "code",
   "execution_count": 30,
   "id": "8150ee1f",
   "metadata": {},
   "outputs": [
    {
     "data": {
      "text/plain": [
       "['apple', 'onions']"
      ]
     },
     "execution_count": 30,
     "metadata": {},
     "output_type": "execute_result"
    }
   ],
   "source": [
    "random_list2[0::2]"
   ]
  },
  {
   "cell_type": "code",
   "execution_count": 32,
   "id": "03ed063b",
   "metadata": {},
   "outputs": [
    {
     "data": {
      "text/plain": [
       "['apple', 'noodles', 'onions', 'cheeseballs', 5, 8.0, 'A sentence', 'apple']"
      ]
     },
     "execution_count": 32,
     "metadata": {},
     "output_type": "execute_result"
    }
   ],
   "source": [
    "random_list"
   ]
  },
  {
   "cell_type": "code",
   "execution_count": 33,
   "id": "9b6cd24b",
   "metadata": {},
   "outputs": [
    {
     "data": {
      "text/plain": [
       "['apple', 'onions', 5, 'A sentence']"
      ]
     },
     "execution_count": 33,
     "metadata": {},
     "output_type": "execute_result"
    }
   ],
   "source": [
    "random_list[::2]"
   ]
  },
  {
   "cell_type": "code",
   "execution_count": 34,
   "id": "a2d8279b",
   "metadata": {},
   "outputs": [
    {
     "data": {
      "text/plain": [
       "['apple', 'noodles', 'onions', 'James Teddy']"
      ]
     },
     "execution_count": 34,
     "metadata": {},
     "output_type": "execute_result"
    }
   ],
   "source": [
    "random_list2"
   ]
  },
  {
   "cell_type": "code",
   "execution_count": 37,
   "id": "3936180f",
   "metadata": {},
   "outputs": [],
   "source": [
    "food_stuffs = random_list2[0:3]"
   ]
  },
  {
   "cell_type": "code",
   "execution_count": 38,
   "id": "81df20c7",
   "metadata": {},
   "outputs": [
    {
     "data": {
      "text/plain": [
       "['apple', 'noodles', 'onions']"
      ]
     },
     "execution_count": 38,
     "metadata": {},
     "output_type": "execute_result"
    }
   ],
   "source": [
    "food_stuffs"
   ]
  },
  {
   "cell_type": "code",
   "execution_count": 39,
   "id": "461f1b1e",
   "metadata": {},
   "outputs": [],
   "source": [
    "food_stuffs[0] = 'beef'"
   ]
  },
  {
   "cell_type": "code",
   "execution_count": 40,
   "id": "bc488cc6",
   "metadata": {},
   "outputs": [
    {
     "data": {
      "text/plain": [
       "['beef', 'noodles', 'onions']"
      ]
     },
     "execution_count": 40,
     "metadata": {},
     "output_type": "execute_result"
    }
   ],
   "source": [
    "food_stuffs"
   ]
  },
  {
   "cell_type": "code",
   "execution_count": 41,
   "id": "eee765ee",
   "metadata": {},
   "outputs": [
    {
     "data": {
      "text/plain": [
       "['apple', 'noodles', 'onions', 'James Teddy']"
      ]
     },
     "execution_count": 41,
     "metadata": {},
     "output_type": "execute_result"
    }
   ],
   "source": [
    "random_list2"
   ]
  },
  {
   "cell_type": "code",
   "execution_count": 42,
   "id": "cb61ceef",
   "metadata": {},
   "outputs": [],
   "source": [
    "food_stuffs.insert(1, 'oil')"
   ]
  },
  {
   "cell_type": "code",
   "execution_count": 43,
   "id": "ce201449",
   "metadata": {},
   "outputs": [
    {
     "data": {
      "text/plain": [
       "['beef', 'oil', 'noodles', 'onions']"
      ]
     },
     "execution_count": 43,
     "metadata": {},
     "output_type": "execute_result"
    }
   ],
   "source": [
    "food_stuffs"
   ]
  },
  {
   "cell_type": "code",
   "execution_count": 44,
   "id": "36bddbf4",
   "metadata": {},
   "outputs": [],
   "source": [
    "food_stuffs.append('fish')"
   ]
  },
  {
   "cell_type": "code",
   "execution_count": 45,
   "id": "8abd491b",
   "metadata": {},
   "outputs": [
    {
     "data": {
      "text/plain": [
       "['beef', 'oil', 'noodles', 'onions', 'fish']"
      ]
     },
     "execution_count": 45,
     "metadata": {},
     "output_type": "execute_result"
    }
   ],
   "source": [
    "food_stuffs"
   ]
  },
  {
   "cell_type": "code",
   "execution_count": 47,
   "id": "7a25f92b",
   "metadata": {},
   "outputs": [
    {
     "data": {
      "text/plain": [
       "['flour', 'egg', 'sugar', 'milk', 'honey', 'baking power']"
      ]
     },
     "execution_count": 47,
     "metadata": {},
     "output_type": "execute_result"
    }
   ],
   "source": [
    "['flour', 'egg', 'sugar', 'milk', 'honey', 'baking power']"
   ]
  },
  {
   "cell_type": "code",
   "execution_count": 48,
   "id": "303593a9",
   "metadata": {},
   "outputs": [],
   "source": [
    "food_stuffs.extend(['flour', 'egg', 'sugar', 'milk', 'honey', 'baking power'])"
   ]
  },
  {
   "cell_type": "code",
   "execution_count": 49,
   "id": "c1ca5a41",
   "metadata": {},
   "outputs": [
    {
     "data": {
      "text/plain": [
       "['beef',\n",
       " 'oil',\n",
       " 'noodles',\n",
       " 'onions',\n",
       " 'fish',\n",
       " 'flour',\n",
       " 'egg',\n",
       " 'sugar',\n",
       " 'milk',\n",
       " 'honey',\n",
       " 'baking power']"
      ]
     },
     "execution_count": 49,
     "metadata": {},
     "output_type": "execute_result"
    }
   ],
   "source": [
    "food_stuffs"
   ]
  },
  {
   "cell_type": "code",
   "execution_count": 50,
   "id": "8f57b155",
   "metadata": {},
   "outputs": [],
   "source": [
    "food_stuffs.remove('honey')"
   ]
  },
  {
   "cell_type": "code",
   "execution_count": 51,
   "id": "874f4fec",
   "metadata": {},
   "outputs": [
    {
     "data": {
      "text/plain": [
       "['beef',\n",
       " 'oil',\n",
       " 'noodles',\n",
       " 'onions',\n",
       " 'fish',\n",
       " 'flour',\n",
       " 'egg',\n",
       " 'sugar',\n",
       " 'milk',\n",
       " 'baking power']"
      ]
     },
     "execution_count": 51,
     "metadata": {},
     "output_type": "execute_result"
    }
   ],
   "source": [
    "food_stuffs"
   ]
  },
  {
   "cell_type": "code",
   "execution_count": 52,
   "id": "79b21698",
   "metadata": {},
   "outputs": [],
   "source": [
    "food_stuffs.extend(['honey', 'honey'])"
   ]
  },
  {
   "cell_type": "code",
   "execution_count": 53,
   "id": "a084bc21",
   "metadata": {},
   "outputs": [
    {
     "data": {
      "text/plain": [
       "['beef',\n",
       " 'oil',\n",
       " 'noodles',\n",
       " 'onions',\n",
       " 'fish',\n",
       " 'flour',\n",
       " 'egg',\n",
       " 'sugar',\n",
       " 'milk',\n",
       " 'baking power',\n",
       " 'honey',\n",
       " 'honey']"
      ]
     },
     "execution_count": 53,
     "metadata": {},
     "output_type": "execute_result"
    }
   ],
   "source": [
    "food_stuffs"
   ]
  },
  {
   "cell_type": "code",
   "execution_count": 54,
   "id": "13470f86",
   "metadata": {},
   "outputs": [],
   "source": [
    "food_stuffs.remove('honey')"
   ]
  },
  {
   "cell_type": "code",
   "execution_count": 55,
   "id": "debf7b5a",
   "metadata": {},
   "outputs": [
    {
     "data": {
      "text/plain": [
       "['beef',\n",
       " 'oil',\n",
       " 'noodles',\n",
       " 'onions',\n",
       " 'fish',\n",
       " 'flour',\n",
       " 'egg',\n",
       " 'sugar',\n",
       " 'milk',\n",
       " 'baking power',\n",
       " 'honey']"
      ]
     },
     "execution_count": 55,
     "metadata": {},
     "output_type": "execute_result"
    }
   ],
   "source": [
    "food_stuffs"
   ]
  },
  {
   "cell_type": "code",
   "execution_count": 56,
   "id": "f0c221af",
   "metadata": {},
   "outputs": [
    {
     "data": {
      "text/plain": [
       "'fish'"
      ]
     },
     "execution_count": 56,
     "metadata": {},
     "output_type": "execute_result"
    }
   ],
   "source": [
    "food_stuffs.pop(4)"
   ]
  },
  {
   "cell_type": "code",
   "execution_count": 57,
   "id": "e88bdb33",
   "metadata": {},
   "outputs": [
    {
     "data": {
      "text/plain": [
       "['beef',\n",
       " 'oil',\n",
       " 'noodles',\n",
       " 'onions',\n",
       " 'flour',\n",
       " 'egg',\n",
       " 'sugar',\n",
       " 'milk',\n",
       " 'baking power',\n",
       " 'honey']"
      ]
     },
     "execution_count": 57,
     "metadata": {},
     "output_type": "execute_result"
    }
   ],
   "source": [
    "food_stuffs"
   ]
  },
  {
   "cell_type": "code",
   "execution_count": 58,
   "id": "986f772c",
   "metadata": {},
   "outputs": [],
   "source": [
    "item_removed = food_stuffs.pop(0)"
   ]
  },
  {
   "cell_type": "code",
   "execution_count": 59,
   "id": "e0f92fcc",
   "metadata": {},
   "outputs": [
    {
     "data": {
      "text/plain": [
       "'beef'"
      ]
     },
     "execution_count": 59,
     "metadata": {},
     "output_type": "execute_result"
    }
   ],
   "source": [
    "item_removed"
   ]
  },
  {
   "cell_type": "code",
   "execution_count": 60,
   "id": "e4d64156",
   "metadata": {},
   "outputs": [
    {
     "data": {
      "text/plain": [
       "9"
      ]
     },
     "execution_count": 60,
     "metadata": {},
     "output_type": "execute_result"
    }
   ],
   "source": [
    "len(food_stuffs)"
   ]
  },
  {
   "cell_type": "code",
   "execution_count": 61,
   "id": "4f8fdf09",
   "metadata": {},
   "outputs": [],
   "source": [
    "food_stuffs.reverse()"
   ]
  },
  {
   "cell_type": "code",
   "execution_count": 62,
   "id": "21f67feb",
   "metadata": {},
   "outputs": [
    {
     "data": {
      "text/plain": [
       "['honey',\n",
       " 'baking power',\n",
       " 'milk',\n",
       " 'sugar',\n",
       " 'egg',\n",
       " 'flour',\n",
       " 'onions',\n",
       " 'noodles',\n",
       " 'oil']"
      ]
     },
     "execution_count": 62,
     "metadata": {},
     "output_type": "execute_result"
    }
   ],
   "source": [
    "food_stuffs"
   ]
  },
  {
   "cell_type": "code",
   "execution_count": 63,
   "id": "e6ba4291",
   "metadata": {},
   "outputs": [],
   "source": [
    "food_stuffs.sort()"
   ]
  },
  {
   "cell_type": "code",
   "execution_count": 64,
   "id": "beea393a",
   "metadata": {},
   "outputs": [
    {
     "data": {
      "text/plain": [
       "['baking power',\n",
       " 'egg',\n",
       " 'flour',\n",
       " 'honey',\n",
       " 'milk',\n",
       " 'noodles',\n",
       " 'oil',\n",
       " 'onions',\n",
       " 'sugar']"
      ]
     },
     "execution_count": 64,
     "metadata": {},
     "output_type": "execute_result"
    }
   ],
   "source": [
    "food_stuffs"
   ]
  },
  {
   "cell_type": "code",
   "execution_count": 65,
   "id": "54e4ef64",
   "metadata": {},
   "outputs": [],
   "source": [
    "food_stuffs.append('noodles')"
   ]
  },
  {
   "cell_type": "code",
   "execution_count": 66,
   "id": "b250b5bb",
   "metadata": {},
   "outputs": [
    {
     "data": {
      "text/plain": [
       "['baking power',\n",
       " 'egg',\n",
       " 'flour',\n",
       " 'honey',\n",
       " 'milk',\n",
       " 'noodles',\n",
       " 'oil',\n",
       " 'onions',\n",
       " 'sugar',\n",
       " 'noodles']"
      ]
     },
     "execution_count": 66,
     "metadata": {},
     "output_type": "execute_result"
    }
   ],
   "source": [
    "food_stuffs"
   ]
  },
  {
   "cell_type": "code",
   "execution_count": 67,
   "id": "a2f096fa",
   "metadata": {},
   "outputs": [
    {
     "data": {
      "text/plain": [
       "2"
      ]
     },
     "execution_count": 67,
     "metadata": {},
     "output_type": "execute_result"
    }
   ],
   "source": [
    "food_stuffs.count('noodles')"
   ]
  },
  {
   "cell_type": "code",
   "execution_count": null,
   "id": "b684e043",
   "metadata": {},
   "outputs": [],
   "source": []
  }
 ],
 "metadata": {
  "kernelspec": {
   "display_name": "Python 3",
   "language": "python",
   "name": "python3"
  },
  "language_info": {
   "codemirror_mode": {
    "name": "ipython",
    "version": 3
   },
   "file_extension": ".py",
   "mimetype": "text/x-python",
   "name": "python",
   "nbconvert_exporter": "python",
   "pygments_lexer": "ipython3",
   "version": "3.12.4"
  }
 },
 "nbformat": 4,
 "nbformat_minor": 5
}
