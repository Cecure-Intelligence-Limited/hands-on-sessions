{
 "cells": [
  {
   "cell_type": "code",
   "execution_count": 2,
   "id": "f36e9a17",
   "metadata": {},
   "outputs": [],
   "source": [
    "# Name\n",
    "# EMail"
   ]
  },
  {
   "cell_type": "code",
   "execution_count": 3,
   "id": "39cac92d",
   "metadata": {},
   "outputs": [],
   "source": [
    "# Name                              EMAIL"
   ]
  },
  {
   "cell_type": "code",
   "execution_count": null,
   "id": "add4d986",
   "metadata": {},
   "outputs": [],
   "source": []
  }
 ],
 "metadata": {
  "kernelspec": {
   "display_name": "Python 3",
   "language": "python",
   "name": "python3"
  },
  "language_info": {
   "codemirror_mode": {
    "name": "ipython",
    "version": 3
   },
   "file_extension": ".py",
   "mimetype": "text/x-python",
   "name": "python",
   "nbconvert_exporter": "python",
   "pygments_lexer": "ipython3",
   "version": "3.12.4"
  }
 },
 "nbformat": 4,
 "nbformat_minor": 5
}
