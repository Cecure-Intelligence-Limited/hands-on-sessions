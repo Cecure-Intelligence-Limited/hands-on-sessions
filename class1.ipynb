{
 "cells": [
  {
   "cell_type": "code",
   "execution_count": 2,
   "id": "fc175612",
   "metadata": {},
   "outputs": [
    {
     "name": "stdout",
     "output_type": "stream",
     "text": [
      "Hello World\n"
     ]
    }
   ],
   "source": [
    "print('Hello World')"
   ]
  },
  {
   "cell_type": "code",
   "execution_count": null,
   "id": "1601a65e",
   "metadata": {},
   "outputs": [],
   "source": [
    "# STRING - SENTENCE or WORD\n",
    "# INTEGERS - Numbers, Whole Numbers\n",
    "# FLOAT - Fractions, Decimals"
   ]
  },
  {
   "cell_type": "code",
   "execution_count": 4,
   "id": "99b2f876",
   "metadata": {},
   "outputs": [
    {
     "data": {
      "text/plain": [
       "'My name is Teddy'"
      ]
     },
     "execution_count": 4,
     "metadata": {},
     "output_type": "execute_result"
    }
   ],
   "source": [
    "\"My name is Teddy\""
   ]
  },
  {
   "cell_type": "code",
   "execution_count": 5,
   "id": "71b5ffed",
   "metadata": {},
   "outputs": [
    {
     "data": {
      "text/plain": [
       "'This is a python class.'"
      ]
     },
     "execution_count": 5,
     "metadata": {},
     "output_type": "execute_result"
    }
   ],
   "source": [
    "'This is a python class.'"
   ]
  },
  {
   "cell_type": "code",
   "execution_count": 6,
   "id": "dad56c9c",
   "metadata": {},
   "outputs": [
    {
     "data": {
      "text/plain": [
       "str"
      ]
     },
     "execution_count": 6,
     "metadata": {},
     "output_type": "execute_result"
    }
   ],
   "source": [
    "type('This is a python class.')"
   ]
  },
  {
   "cell_type": "code",
   "execution_count": 8,
   "id": "702bef10",
   "metadata": {},
   "outputs": [
    {
     "data": {
      "text/plain": [
       "'This is a python \\t class.'"
      ]
     },
     "execution_count": 8,
     "metadata": {},
     "output_type": "execute_result"
    }
   ],
   "source": [
    "'This is a python \\t class.'"
   ]
  },
  {
   "cell_type": "code",
   "execution_count": null,
   "id": "a3fca069",
   "metadata": {},
   "outputs": [
    {
     "data": {
      "text/plain": [
       "\"This is a python class. Cohort 16's python class\""
      ]
     },
     "execution_count": 10,
     "metadata": {},
     "output_type": "execute_result"
    }
   ],
   "source": [
    "\"This is a python class. Cohort 16's python class\""
   ]
  },
  {
   "cell_type": "code",
   "execution_count": 12,
   "id": "bd85a271",
   "metadata": {},
   "outputs": [
    {
     "ename": "SyntaxError",
     "evalue": "invalid syntax (2804694361.py, line 1)",
     "output_type": "error",
     "traceback": [
      "\u001b[1;36m  Cell \u001b[1;32mIn[12], line 1\u001b[1;36m\u001b[0m\n\u001b[1;33m    \"This is a python class. Cohort 16's python class. Teddy said \"He would teach the class\".\"\u001b[0m\n\u001b[1;37m                                                                   ^\u001b[0m\n\u001b[1;31mSyntaxError\u001b[0m\u001b[1;31m:\u001b[0m invalid syntax\n"
     ]
    }
   ],
   "source": [
    "\"This is a python class. Cohort 16's python class. Teddy said \"He would teach the class\".\""
   ]
  },
  {
   "cell_type": "code",
   "execution_count": 13,
   "id": "110cb959",
   "metadata": {},
   "outputs": [
    {
     "data": {
      "text/plain": [
       "'This is a python class. Cohort 16\\'s python class. Teddy said \"He would teach the class\".'"
      ]
     },
     "execution_count": 13,
     "metadata": {},
     "output_type": "execute_result"
    }
   ],
   "source": [
    "\"This is a python class. Cohort 16's python class. Teddy said \\\"He would teach the class\\\".\""
   ]
  },
  {
   "cell_type": "code",
   "execution_count": 14,
   "id": "af56b3d2",
   "metadata": {},
   "outputs": [
    {
     "data": {
      "text/plain": [
       "'He has five apples'"
      ]
     },
     "execution_count": 14,
     "metadata": {},
     "output_type": "execute_result"
    }
   ],
   "source": [
    "\"He has five apples\""
   ]
  },
  {
   "cell_type": "code",
   "execution_count": 15,
   "id": "ed4da256",
   "metadata": {},
   "outputs": [
    {
     "data": {
      "text/plain": [
       "'He has 5 apples'"
      ]
     },
     "execution_count": 15,
     "metadata": {},
     "output_type": "execute_result"
    }
   ],
   "source": [
    "\"He has 5 apples\""
   ]
  },
  {
   "cell_type": "code",
   "execution_count": 16,
   "id": "18e7120d",
   "metadata": {},
   "outputs": [
    {
     "data": {
      "text/plain": [
       "'He Has 5 Apples'"
      ]
     },
     "execution_count": 16,
     "metadata": {},
     "output_type": "execute_result"
    }
   ],
   "source": [
    "\"he has 5 apples\".title()"
   ]
  },
  {
   "cell_type": "code",
   "execution_count": 17,
   "id": "253c32f3",
   "metadata": {},
   "outputs": [
    {
     "data": {
      "text/plain": [
       "'He has 5 apples'"
      ]
     },
     "execution_count": 17,
     "metadata": {},
     "output_type": "execute_result"
    }
   ],
   "source": [
    "\"he has 5 apples\".capitalize()"
   ]
  },
  {
   "cell_type": "code",
   "execution_count": 18,
   "id": "46afdda9",
   "metadata": {},
   "outputs": [
    {
     "data": {
      "text/plain": [
       "'HE HAS 5 APPLES'"
      ]
     },
     "execution_count": 18,
     "metadata": {},
     "output_type": "execute_result"
    }
   ],
   "source": [
    "\"he has 5 apples\".upper()"
   ]
  },
  {
   "cell_type": "code",
   "execution_count": 20,
   "id": "ac3b09ed",
   "metadata": {},
   "outputs": [
    {
     "data": {
      "text/plain": [
       "'he has 5 apples'"
      ]
     },
     "execution_count": 20,
     "metadata": {},
     "output_type": "execute_result"
    }
   ],
   "source": [
    "'HE HAS 5 APPLES'.lower()"
   ]
  },
  {
   "cell_type": "code",
   "execution_count": 22,
   "id": "fb34b4c3",
   "metadata": {},
   "outputs": [],
   "source": [
    "# INTEGERS \n",
    "# Its a comment"
   ]
  },
  {
   "cell_type": "code",
   "execution_count": 23,
   "id": "23307103",
   "metadata": {},
   "outputs": [
    {
     "data": {
      "text/plain": [
       "5"
      ]
     },
     "execution_count": 23,
     "metadata": {},
     "output_type": "execute_result"
    }
   ],
   "source": [
    "# We are starting whole numbers\n",
    "5"
   ]
  },
  {
   "cell_type": "code",
   "execution_count": 25,
   "id": "5c2bd289",
   "metadata": {},
   "outputs": [
    {
     "data": {
      "text/plain": [
       "10"
      ]
     },
     "execution_count": 25,
     "metadata": {},
     "output_type": "execute_result"
    }
   ],
   "source": [
    "5 + 5"
   ]
  },
  {
   "cell_type": "code",
   "execution_count": 26,
   "id": "0ecb700e",
   "metadata": {},
   "outputs": [
    {
     "data": {
      "text/plain": [
       "25"
      ]
     },
     "execution_count": 26,
     "metadata": {},
     "output_type": "execute_result"
    }
   ],
   "source": [
    "5 * 5"
   ]
  },
  {
   "cell_type": "code",
   "execution_count": 27,
   "id": "d5d6094b",
   "metadata": {},
   "outputs": [
    {
     "data": {
      "text/plain": [
       "1.0"
      ]
     },
     "execution_count": 27,
     "metadata": {},
     "output_type": "execute_result"
    }
   ],
   "source": [
    "5 / 5"
   ]
  },
  {
   "cell_type": "code",
   "execution_count": 28,
   "id": "ae738c2c",
   "metadata": {},
   "outputs": [
    {
     "data": {
      "text/plain": [
       "0"
      ]
     },
     "execution_count": 28,
     "metadata": {},
     "output_type": "execute_result"
    }
   ],
   "source": [
    "5 - 5"
   ]
  },
  {
   "cell_type": "code",
   "execution_count": 29,
   "id": "47b6bd23",
   "metadata": {},
   "outputs": [
    {
     "data": {
      "text/plain": [
       "'5'"
      ]
     },
     "execution_count": 29,
     "metadata": {},
     "output_type": "execute_result"
    }
   ],
   "source": [
    "'5' # STRING"
   ]
  },
  {
   "cell_type": "code",
   "execution_count": 30,
   "id": "2199fa36",
   "metadata": {},
   "outputs": [
    {
     "data": {
      "text/plain": [
       "1.0"
      ]
     },
     "execution_count": 30,
     "metadata": {},
     "output_type": "execute_result"
    }
   ],
   "source": [
    "1.0"
   ]
  },
  {
   "cell_type": "code",
   "execution_count": null,
   "id": "6d06d872",
   "metadata": {},
   "outputs": [
    {
     "data": {
      "text/plain": [
       "1.0"
      ]
     },
     "execution_count": 31,
     "metadata": {},
     "output_type": "execute_result"
    }
   ],
   "source": [
    "1.0000000000000000000000000000000000000000000000000000000000000000000000000000000000000000000000000001"
   ]
  },
  {
   "cell_type": "code",
   "execution_count": 36,
   "id": "7a507cc2",
   "metadata": {},
   "outputs": [
    {
     "data": {
      "text/plain": [
       "1.1"
      ]
     },
     "execution_count": 36,
     "metadata": {},
     "output_type": "execute_result"
    }
   ],
   "source": [
    "1.1"
   ]
  },
  {
   "cell_type": "code",
   "execution_count": 37,
   "id": "3f1d6826",
   "metadata": {},
   "outputs": [
    {
     "data": {
      "text/plain": [
       "1.0"
      ]
     },
     "execution_count": 37,
     "metadata": {},
     "output_type": "execute_result"
    }
   ],
   "source": [
    "1.0"
   ]
  },
  {
   "cell_type": "code",
   "execution_count": 39,
   "id": "4355ce4e",
   "metadata": {},
   "outputs": [
    {
     "data": {
      "text/plain": [
       "2.5"
      ]
     },
     "execution_count": 39,
     "metadata": {},
     "output_type": "execute_result"
    }
   ],
   "source": [
    "5/2"
   ]
  },
  {
   "cell_type": "code",
   "execution_count": 38,
   "id": "4d09a443",
   "metadata": {},
   "outputs": [
    {
     "data": {
      "text/plain": [
       "1"
      ]
     },
     "execution_count": 38,
     "metadata": {},
     "output_type": "execute_result"
    }
   ],
   "source": [
    "5 % 2"
   ]
  },
  {
   "cell_type": "code",
   "execution_count": null,
   "id": "ed347318",
   "metadata": {},
   "outputs": [],
   "source": []
  }
 ],
 "metadata": {
  "kernelspec": {
   "display_name": "Python 3",
   "language": "python",
   "name": "python3"
  },
  "language_info": {
   "codemirror_mode": {
    "name": "ipython",
    "version": 3
   },
   "file_extension": ".py",
   "mimetype": "text/x-python",
   "name": "python",
   "nbconvert_exporter": "python",
   "pygments_lexer": "ipython3",
   "version": "3.12.4"
  }
 },
 "nbformat": 4,
 "nbformat_minor": 5
}
