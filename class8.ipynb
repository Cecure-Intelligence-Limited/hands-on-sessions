{
 "cells": [
  {
   "cell_type": "code",
   "execution_count": 4,
   "id": "4e1ffae5",
   "metadata": {},
   "outputs": [],
   "source": [
    "def full_name(first_name: str, last_name: str) -> str:\n",
    "    ''' Returns first name and last name of the person'''\n",
    "    return f\"{first_name.capitalize()} {last_name.capitalize()}\""
   ]
  },
  {
   "cell_type": "code",
   "execution_count": 7,
   "id": "2bfa61f5",
   "metadata": {},
   "outputs": [
    {
     "data": {
      "text/plain": [
       "'James Teddy'"
      ]
     },
     "execution_count": 7,
     "metadata": {},
     "output_type": "execute_result"
    }
   ],
   "source": [
    "full_name('james', 'teddy')"
   ]
  },
  {
   "cell_type": "code",
   "execution_count": 8,
   "id": "3e508e0d",
   "metadata": {},
   "outputs": [],
   "source": [
    "x = 500"
   ]
  },
  {
   "cell_type": "code",
   "execution_count": 21,
   "id": "7fbdfb7c",
   "metadata": {},
   "outputs": [],
   "source": [
    "y = 15"
   ]
  },
  {
   "cell_type": "code",
   "execution_count": 9,
   "id": "fda2ee9d",
   "metadata": {},
   "outputs": [
    {
     "data": {
      "text/plain": [
       "500"
      ]
     },
     "execution_count": 9,
     "metadata": {},
     "output_type": "execute_result"
    }
   ],
   "source": [
    "x"
   ]
  },
  {
   "cell_type": "code",
   "execution_count": 24,
   "id": "c1e32549",
   "metadata": {},
   "outputs": [],
   "source": [
    "def do_something(item):\n",
    "    x = 90\n",
    "    global y\n",
    "    y = 70\n",
    "    return item + x + y"
   ]
  },
  {
   "cell_type": "code",
   "execution_count": 25,
   "id": "8c2b977b",
   "metadata": {},
   "outputs": [
    {
     "data": {
      "text/plain": [
       "170"
      ]
     },
     "execution_count": 25,
     "metadata": {},
     "output_type": "execute_result"
    }
   ],
   "source": [
    "do_something(10)"
   ]
  },
  {
   "cell_type": "code",
   "execution_count": 26,
   "id": "9ed163ea",
   "metadata": {},
   "outputs": [
    {
     "data": {
      "text/plain": [
       "500"
      ]
     },
     "execution_count": 26,
     "metadata": {},
     "output_type": "execute_result"
    }
   ],
   "source": [
    "x"
   ]
  },
  {
   "cell_type": "code",
   "execution_count": 27,
   "id": "98d507e2",
   "metadata": {},
   "outputs": [
    {
     "data": {
      "text/plain": [
       "70"
      ]
     },
     "execution_count": 27,
     "metadata": {},
     "output_type": "execute_result"
    }
   ],
   "source": [
    "y"
   ]
  },
  {
   "cell_type": "code",
   "execution_count": 28,
   "id": "f8a1da89",
   "metadata": {},
   "outputs": [],
   "source": [
    "x = 50"
   ]
  },
  {
   "cell_type": "code",
   "execution_count": 29,
   "id": "4f85fff5",
   "metadata": {},
   "outputs": [
    {
     "data": {
      "text/plain": [
       "161"
      ]
     },
     "execution_count": 29,
     "metadata": {},
     "output_type": "execute_result"
    }
   ],
   "source": [
    "do_something(1)"
   ]
  },
  {
   "cell_type": "code",
   "execution_count": null,
   "id": "e9f39686",
   "metadata": {},
   "outputs": [],
   "source": []
  }
 ],
 "metadata": {
  "kernelspec": {
   "display_name": "Python 3",
   "language": "python",
   "name": "python3"
  },
  "language_info": {
   "codemirror_mode": {
    "name": "ipython",
    "version": 3
   },
   "file_extension": ".py",
   "mimetype": "text/x-python",
   "name": "python",
   "nbconvert_exporter": "python",
   "pygments_lexer": "ipython3",
   "version": "3.12.4"
  }
 },
 "nbformat": 4,
 "nbformat_minor": 5
}
