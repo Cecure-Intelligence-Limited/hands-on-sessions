{
 "cells": [
  {
   "cell_type": "code",
   "execution_count": 1,
   "id": "a41b4a5c",
   "metadata": {},
   "outputs": [],
   "source": [
    "def my_function():\n",
    "  print(\"Hello from a function\")"
   ]
  },
  {
   "cell_type": "code",
   "execution_count": 2,
   "id": "67f05bc6",
   "metadata": {},
   "outputs": [
    {
     "name": "stdout",
     "output_type": "stream",
     "text": [
      "Hello from a function\n"
     ]
    }
   ],
   "source": [
    "my_function()"
   ]
  },
  {
   "cell_type": "code",
   "execution_count": 4,
   "id": "bf930b14",
   "metadata": {},
   "outputs": [],
   "source": [
    "def greet(name):\n",
    "    print(f\"{name.title()} says Hi!!!\")"
   ]
  },
  {
   "cell_type": "code",
   "execution_count": 5,
   "id": "dc906d16",
   "metadata": {},
   "outputs": [
    {
     "ename": "TypeError",
     "evalue": "greet() missing 1 required positional argument: 'name'",
     "output_type": "error",
     "traceback": [
      "\u001b[1;31m---------------------------------------------------------------------------\u001b[0m",
      "\u001b[1;31mTypeError\u001b[0m                                 Traceback (most recent call last)",
      "Cell \u001b[1;32mIn[5], line 1\u001b[0m\n\u001b[1;32m----> 1\u001b[0m \u001b[43mgreet\u001b[49m\u001b[43m(\u001b[49m\u001b[43m)\u001b[49m\n",
      "\u001b[1;31mTypeError\u001b[0m: greet() missing 1 required positional argument: 'name'"
     ]
    }
   ],
   "source": [
    "greet()"
   ]
  },
  {
   "cell_type": "code",
   "execution_count": 6,
   "id": "50560eae",
   "metadata": {},
   "outputs": [
    {
     "name": "stdout",
     "output_type": "stream",
     "text": [
      "Ayisat says Hi!!!\n"
     ]
    }
   ],
   "source": [
    "greet('Ayisat')"
   ]
  },
  {
   "cell_type": "code",
   "execution_count": 7,
   "id": "a059760c",
   "metadata": {},
   "outputs": [
    {
     "name": "stdout",
     "output_type": "stream",
     "text": [
      "Adetola says Hi!!!\n"
     ]
    }
   ],
   "source": [
    "greet('adetola')"
   ]
  },
  {
   "cell_type": "code",
   "execution_count": 32,
   "id": "ba71de64",
   "metadata": {},
   "outputs": [],
   "source": [
    "def dog(name):\n",
    "    print(f'{name} can bark')\n",
    "    print(f'{name} has a tail')\n",
    "    print(f'{name} walks on all 4')"
   ]
  },
  {
   "cell_type": "code",
   "execution_count": 33,
   "id": "2677047d",
   "metadata": {},
   "outputs": [
    {
     "name": "stdout",
     "output_type": "stream",
     "text": [
      "bulldog can bark\n",
      "bulldog has a tail\n",
      "bulldog walks on all 4\n"
     ]
    }
   ],
   "source": [
    "dog('bulldog')"
   ]
  },
  {
   "cell_type": "code",
   "execution_count": 12,
   "id": "55361358",
   "metadata": {},
   "outputs": [
    {
     "name": "stdout",
     "output_type": "stream",
     "text": [
      "Chihuahua can bark\n",
      "Chihuahua has a tail\n",
      "Chihuahua walks on all 4\n"
     ]
    }
   ],
   "source": [
    "dog('Chihuahua')"
   ]
  },
  {
   "cell_type": "code",
   "execution_count": 14,
   "id": "4516441a",
   "metadata": {},
   "outputs": [],
   "source": [
    "def address(first_name, last_name, email, area, state, country):\n",
    "    ''' Returns the adress of the person that is passed into it in an Email address format'''\n",
    "    print(f\"{first_name.capitalize()} {last_name.capitalize()}\")\n",
    "    print(f'{email}')\n",
    "    print(f'{area.capitalize()}, {state.capitalize()}, {country.capitalize()}.')"
   ]
  },
  {
   "cell_type": "code",
   "execution_count": 15,
   "id": "710b1a5f",
   "metadata": {},
   "outputs": [
    {
     "name": "stdout",
     "output_type": "stream",
     "text": [
      "Adesote Adetola\n",
      "adesote.a@cil.academy\n",
      "Silicon valley, San francisco, Usa.\n"
     ]
    }
   ],
   "source": [
    "address('adesote', 'adetola', 'adesote.a@cil.academy',\n",
    "        'silicon valley', 'san francisco', 'usa')"
   ]
  },
  {
   "cell_type": "code",
   "execution_count": 16,
   "id": "63dbd0b3",
   "metadata": {},
   "outputs": [
    {
     "name": "stdout",
     "output_type": "stream",
     "text": [
      "Chika Okonkwo\n",
      "chika.o@cil.academy\n",
      "Victoria island, Lagos, Nigeria.\n"
     ]
    }
   ],
   "source": [
    "address('chika', 'okonkwo', 'chika.o@cil.academy',\n",
    "        'victoria island', 'lagos', 'nigeria')"
   ]
  },
  {
   "cell_type": "code",
   "execution_count": 17,
   "id": "9d4c45d5",
   "metadata": {},
   "outputs": [],
   "source": [
    "def students(*student_names):\n",
    "    print(student_names)"
   ]
  },
  {
   "cell_type": "code",
   "execution_count": 18,
   "id": "3fa4d99d",
   "metadata": {},
   "outputs": [
    {
     "data": {
      "text/plain": [
       "<function __main__.students(*student_names)>"
      ]
     },
     "execution_count": 18,
     "metadata": {},
     "output_type": "execute_result"
    }
   ],
   "source": [
    "students"
   ]
  },
  {
   "cell_type": "code",
   "execution_count": 19,
   "id": "200712a3",
   "metadata": {},
   "outputs": [
    {
     "name": "stdout",
     "output_type": "stream",
     "text": [
      "()\n"
     ]
    }
   ],
   "source": [
    "students()"
   ]
  },
  {
   "cell_type": "code",
   "execution_count": 20,
   "id": "ec4e5771",
   "metadata": {},
   "outputs": [
    {
     "name": "stdout",
     "output_type": "stream",
     "text": [
      "('B Owen', 'Ennie', 'Sophie', 'Pelumi')\n"
     ]
    }
   ],
   "source": [
    "students('B Owen', \"Ennie\", 'Sophie', \"Pelumi\")"
   ]
  },
  {
   "cell_type": "code",
   "execution_count": 21,
   "id": "cfa4350b",
   "metadata": {},
   "outputs": [],
   "source": [
    "def students(*student_names):\n",
    "    print(student_names)\n",
    "    print(student_names[-1])"
   ]
  },
  {
   "cell_type": "code",
   "execution_count": 22,
   "id": "2ed7cc37",
   "metadata": {},
   "outputs": [
    {
     "name": "stdout",
     "output_type": "stream",
     "text": [
      "('B Owen', 'Ennie', 'Sophie', 'Pelumi')\n",
      "Pelumi\n"
     ]
    }
   ],
   "source": [
    "students('B Owen', \"Ennie\", 'Sophie', \"Pelumi\")"
   ]
  },
  {
   "cell_type": "code",
   "execution_count": 23,
   "id": "6e1e53d3",
   "metadata": {},
   "outputs": [],
   "source": [
    "def address(first_name, last_name, email, area, state, country):\n",
    "    ''' Returns the adress of the person that is passed into it in an Email address format'''\n",
    "    print(f\"{first_name.capitalize()} {last_name.capitalize()}\")\n",
    "    print(f'{email}')\n",
    "    print(f'{area.capitalize()}, {state.capitalize()}, {country.capitalize()}.')"
   ]
  },
  {
   "cell_type": "code",
   "execution_count": 24,
   "id": "f695e2b2",
   "metadata": {},
   "outputs": [
    {
     "name": "stdout",
     "output_type": "stream",
     "text": [
      "Silicon valley Adetola\n",
      "adesote.a@cil.academy\n",
      "Adesote, San francisco, Usa.\n"
     ]
    }
   ],
   "source": [
    "address('silicon valley', 'adetola', 'adesote.a@cil.academy',\n",
    "        'adesote', 'san francisco', 'usa')"
   ]
  },
  {
   "cell_type": "code",
   "execution_count": 25,
   "id": "1d7dfeb3",
   "metadata": {},
   "outputs": [
    {
     "name": "stdout",
     "output_type": "stream",
     "text": [
      "Adesote Adetola\n",
      "adesote.a@cil.academy\n",
      "Silicon valley, San francisco, Usa.\n"
     ]
    }
   ],
   "source": [
    "address(area='silicon valley', last_name='adetola', email='adesote.a@cil.academy',\n",
    "        first_name='adesote', state='san francisco', country='usa')"
   ]
  },
  {
   "cell_type": "code",
   "execution_count": 26,
   "id": "2c183156",
   "metadata": {},
   "outputs": [
    {
     "name": "stdout",
     "output_type": "stream",
     "text": [
      "\n"
     ]
    }
   ],
   "source": [
    "print()"
   ]
  },
  {
   "cell_type": "code",
   "execution_count": 27,
   "id": "297b17a9",
   "metadata": {},
   "outputs": [],
   "source": [
    "def address(first_name='james', last_name='teddy', email='james.teddy@gmail.com', area='kubwa', state='fct', country='nigeria'):\n",
    "    ''' Returns the adress of the person that is passed into it in an Email address format'''\n",
    "    print(f\"{first_name.capitalize()} {last_name.capitalize()}\")\n",
    "    print(f'{email}')\n",
    "    print(f'{area.capitalize()}, {state.capitalize()}, {country.capitalize()}.')"
   ]
  },
  {
   "cell_type": "code",
   "execution_count": 28,
   "id": "74217e6c",
   "metadata": {},
   "outputs": [
    {
     "name": "stdout",
     "output_type": "stream",
     "text": [
      "James Teddy\n",
      "james.teddy@gmail.com\n",
      "Kubwa, Fct, Nigeria.\n"
     ]
    }
   ],
   "source": [
    "address()"
   ]
  },
  {
   "cell_type": "code",
   "execution_count": 29,
   "id": "eb2086f8",
   "metadata": {},
   "outputs": [
    {
     "name": "stdout",
     "output_type": "stream",
     "text": [
      "James Teddy\n",
      "james.teddy@gmail.com\n",
      "Victoria island, Lagos, Nigeria.\n"
     ]
    }
   ],
   "source": [
    "address(area='victoria island', state='lagos')"
   ]
  },
  {
   "cell_type": "code",
   "execution_count": 35,
   "id": "a3760894",
   "metadata": {},
   "outputs": [],
   "source": [
    "def student_name(first_name, last_name):\n",
    "    return f\"Hello {first_name.title()} {last_name.title()}, welcome to the class.\""
   ]
  },
  {
   "cell_type": "code",
   "execution_count": 36,
   "id": "93775b9d",
   "metadata": {},
   "outputs": [
    {
     "data": {
      "text/plain": [
       "'Hello Nkechinyere Okoro, welcome to the class.'"
      ]
     },
     "execution_count": 36,
     "metadata": {},
     "output_type": "execute_result"
    }
   ],
   "source": [
    "student_name('nkechinyere', 'okoro')"
   ]
  },
  {
   "cell_type": "code",
   "execution_count": null,
   "id": "1f4be03a",
   "metadata": {},
   "outputs": [],
   "source": []
  }
 ],
 "metadata": {
  "kernelspec": {
   "display_name": "Python 3",
   "language": "python",
   "name": "python3"
  },
  "language_info": {
   "codemirror_mode": {
    "name": "ipython",
    "version": 3
   },
   "file_extension": ".py",
   "mimetype": "text/x-python",
   "name": "python",
   "nbconvert_exporter": "python",
   "pygments_lexer": "ipython3",
   "version": "3.12.4"
  }
 },
 "nbformat": 4,
 "nbformat_minor": 5
}
