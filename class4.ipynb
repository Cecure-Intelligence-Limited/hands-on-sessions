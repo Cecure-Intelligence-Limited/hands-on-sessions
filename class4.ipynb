{
 "cells": [
  {
   "cell_type": "markdown",
   "id": "59c3ad33",
   "metadata": {},
   "source": [
    "#### Boolean"
   ]
  },
  {
   "cell_type": "code",
   "execution_count": 1,
   "id": "78892149",
   "metadata": {},
   "outputs": [
    {
     "data": {
      "text/plain": [
       "True"
      ]
     },
     "execution_count": 1,
     "metadata": {},
     "output_type": "execute_result"
    }
   ],
   "source": [
    "True"
   ]
  },
  {
   "cell_type": "code",
   "execution_count": 2,
   "id": "3428ff59",
   "metadata": {},
   "outputs": [
    {
     "data": {
      "text/plain": [
       "False"
      ]
     },
     "execution_count": 2,
     "metadata": {},
     "output_type": "execute_result"
    }
   ],
   "source": [
    "False"
   ]
  },
  {
   "cell_type": "code",
   "execution_count": 3,
   "id": "9cb4e633",
   "metadata": {},
   "outputs": [
    {
     "data": {
      "text/plain": [
       "[]"
      ]
     },
     "execution_count": 3,
     "metadata": {},
     "output_type": "execute_result"
    }
   ],
   "source": [
    "[]"
   ]
  },
  {
   "cell_type": "code",
   "execution_count": 4,
   "id": "5b11eef2",
   "metadata": {},
   "outputs": [
    {
     "data": {
      "text/plain": [
       "[1, 2, 3, 4, 5]"
      ]
     },
     "execution_count": 4,
     "metadata": {},
     "output_type": "execute_result"
    }
   ],
   "source": [
    "[1,2,3,4,5]"
   ]
  },
  {
   "cell_type": "code",
   "execution_count": 5,
   "id": "b210fe63",
   "metadata": {},
   "outputs": [
    {
     "data": {
      "text/plain": [
       "True"
      ]
     },
     "execution_count": 5,
     "metadata": {},
     "output_type": "execute_result"
    }
   ],
   "source": [
    "4 in [1, 2,3,4,5]"
   ]
  },
  {
   "cell_type": "code",
   "execution_count": 6,
   "id": "432b5b64",
   "metadata": {},
   "outputs": [
    {
     "data": {
      "text/plain": [
       "False"
      ]
     },
     "execution_count": 6,
     "metadata": {},
     "output_type": "execute_result"
    }
   ],
   "source": [
    "8 in [1, 2,3,4,5]"
   ]
  },
  {
   "cell_type": "markdown",
   "id": "9cfe756a",
   "metadata": {},
   "source": [
    "#### True evaluate to 1\n",
    "#### False = 0"
   ]
  },
  {
   "cell_type": "markdown",
   "id": "5bb6551f",
   "metadata": {},
   "source": [
    "##### Tuple = immutable (can't change it)"
   ]
  },
  {
   "cell_type": "code",
   "execution_count": 9,
   "id": "eef80c17",
   "metadata": {},
   "outputs": [
    {
     "data": {
      "text/plain": [
       "(1, 2, 3, 4, 5)"
      ]
     },
     "execution_count": 9,
     "metadata": {},
     "output_type": "execute_result"
    }
   ],
   "source": [
    "(1,2,3,4,5)"
   ]
  },
  {
   "cell_type": "code",
   "execution_count": 10,
   "id": "b36c78f2",
   "metadata": {},
   "outputs": [],
   "source": [
    "first_tuple = (1, 2,3,4,5)"
   ]
  },
  {
   "cell_type": "code",
   "execution_count": 11,
   "id": "f6b6f5a9",
   "metadata": {},
   "outputs": [
    {
     "data": {
      "text/plain": [
       "(1, 2, 3, 4, 5)"
      ]
     },
     "execution_count": 11,
     "metadata": {},
     "output_type": "execute_result"
    }
   ],
   "source": [
    "first_tuple"
   ]
  },
  {
   "cell_type": "code",
   "execution_count": 12,
   "id": "faf5dd98",
   "metadata": {},
   "outputs": [
    {
     "data": {
      "text/plain": [
       "3"
      ]
     },
     "execution_count": 12,
     "metadata": {},
     "output_type": "execute_result"
    }
   ],
   "source": [
    "first_tuple[2]"
   ]
  },
  {
   "cell_type": "code",
   "execution_count": 13,
   "id": "7b4c8e35",
   "metadata": {},
   "outputs": [
    {
     "data": {
      "text/plain": [
       "5"
      ]
     },
     "execution_count": 13,
     "metadata": {},
     "output_type": "execute_result"
    }
   ],
   "source": [
    "first_tuple[-1]"
   ]
  },
  {
   "cell_type": "code",
   "execution_count": 14,
   "id": "db43d665",
   "metadata": {},
   "outputs": [],
   "source": [
    "my_list = [1,2,3,4,5,6]"
   ]
  },
  {
   "cell_type": "code",
   "execution_count": 15,
   "id": "c7e2291c",
   "metadata": {},
   "outputs": [],
   "source": [
    "my_list[0] = 0"
   ]
  },
  {
   "cell_type": "code",
   "execution_count": 16,
   "id": "ae482f90",
   "metadata": {},
   "outputs": [
    {
     "data": {
      "text/plain": [
       "[0, 2, 3, 4, 5, 6]"
      ]
     },
     "execution_count": 16,
     "metadata": {},
     "output_type": "execute_result"
    }
   ],
   "source": [
    "my_list"
   ]
  },
  {
   "cell_type": "code",
   "execution_count": 17,
   "id": "5fa02884",
   "metadata": {},
   "outputs": [
    {
     "ename": "TypeError",
     "evalue": "'tuple' object does not support item assignment",
     "output_type": "error",
     "traceback": [
      "\u001b[1;31m---------------------------------------------------------------------------\u001b[0m",
      "\u001b[1;31mTypeError\u001b[0m                                 Traceback (most recent call last)",
      "Cell \u001b[1;32mIn[17], line 1\u001b[0m\n\u001b[1;32m----> 1\u001b[0m \u001b[43mfirst_tuple\u001b[49m\u001b[43m[\u001b[49m\u001b[38;5;241;43m0\u001b[39;49m\u001b[43m]\u001b[49m \u001b[38;5;241m=\u001b[39m \u001b[38;5;241m0\u001b[39m\n",
      "\u001b[1;31mTypeError\u001b[0m: 'tuple' object does not support item assignment"
     ]
    }
   ],
   "source": [
    "first_tuple[0] = 0"
   ]
  },
  {
   "cell_type": "code",
   "execution_count": null,
   "id": "16116a2f",
   "metadata": {},
   "outputs": [
    {
     "ename": "TypeError",
     "evalue": "tuple.count() takes exactly one argument (0 given)",
     "output_type": "error",
     "traceback": [
      "\u001b[1;31m---------------------------------------------------------------------------\u001b[0m",
      "\u001b[1;31mTypeError\u001b[0m                                 Traceback (most recent call last)",
      "Cell \u001b[1;32mIn[20], line 1\u001b[0m\n\u001b[1;32m----> 1\u001b[0m \u001b[43mfirst_tuple\u001b[49m\u001b[38;5;241;43m.\u001b[39;49m\u001b[43mcount\u001b[49m\u001b[43m(\u001b[49m\u001b[43m)\u001b[49m\n",
      "\u001b[1;31mTypeError\u001b[0m: tuple.count() takes exactly one argument (0 given)"
     ]
    }
   ],
   "source": [
    "first_tuple.count()"
   ]
  },
  {
   "cell_type": "code",
   "execution_count": 21,
   "id": "0d5126be",
   "metadata": {},
   "outputs": [
    {
     "data": {
      "text/plain": [
       "1"
      ]
     },
     "execution_count": 21,
     "metadata": {},
     "output_type": "execute_result"
    }
   ],
   "source": [
    "first_tuple.count(4)"
   ]
  },
  {
   "cell_type": "code",
   "execution_count": 22,
   "id": "f96d71cb",
   "metadata": {},
   "outputs": [],
   "source": [
    "second_tuple = (1, 2, 3,4,5,5,5,6,7,2,1,345,7,8)"
   ]
  },
  {
   "cell_type": "code",
   "execution_count": 23,
   "id": "a2869d98",
   "metadata": {},
   "outputs": [
    {
     "data": {
      "text/plain": [
       "3"
      ]
     },
     "execution_count": 23,
     "metadata": {},
     "output_type": "execute_result"
    }
   ],
   "source": [
    "second_tuple.count(5)"
   ]
  },
  {
   "cell_type": "code",
   "execution_count": 26,
   "id": "657ca943",
   "metadata": {},
   "outputs": [],
   "source": [
    "second_tuple = (1, 2, 3, 4,5,5,5,6,7,2,1,345,7,8, \"word\", False, 9.0)"
   ]
  },
  {
   "cell_type": "code",
   "execution_count": 27,
   "id": "4957b0a0",
   "metadata": {},
   "outputs": [
    {
     "data": {
      "text/plain": [
       "(1, 2, 3, 4, 5, 5, 5, 6, 7, 2, 1, 345, 7, 8, 'word', False, 9.0)"
      ]
     },
     "execution_count": 27,
     "metadata": {},
     "output_type": "execute_result"
    }
   ],
   "source": [
    "second_tuple"
   ]
  },
  {
   "cell_type": "markdown",
   "id": "a2c0c59b",
   "metadata": {},
   "source": [
    "# MAP | OBJECT | DICT"
   ]
  },
  {
   "cell_type": "code",
   "execution_count": 28,
   "id": "35f86ff3",
   "metadata": {},
   "outputs": [
    {
     "data": {
      "text/plain": [
       "{}"
      ]
     },
     "execution_count": 28,
     "metadata": {},
     "output_type": "execute_result"
    }
   ],
   "source": [
    "{}"
   ]
  },
  {
   "cell_type": "code",
   "execution_count": 30,
   "id": "7e209867",
   "metadata": {},
   "outputs": [],
   "source": [
    "my_dict = {\n",
    "    \"class_a\": ['Adetola', 'Ayisat'],\n",
    "    \"class_b\": ['Chika', 'Sophie'],\n",
    "    \"class_c\": ['Jacob', 'Solarin'],\n",
    "    \"class_d\": ['Uche', 'Teddy'],\n",
    "}"
   ]
  },
  {
   "cell_type": "code",
   "execution_count": 31,
   "id": "c37ed305",
   "metadata": {},
   "outputs": [
    {
     "data": {
      "text/plain": [
       "{'class_a': ['Adetola', 'Ayisat'],\n",
       " 'class_b': ['Chika', 'Sophie'],\n",
       " 'class_c': ['Jacob', 'Solarin'],\n",
       " 'class_d': ['Uche', 'Teddy']}"
      ]
     },
     "execution_count": 31,
     "metadata": {},
     "output_type": "execute_result"
    }
   ],
   "source": [
    "my_dict"
   ]
  },
  {
   "cell_type": "code",
   "execution_count": 32,
   "id": "b6a59221",
   "metadata": {},
   "outputs": [
    {
     "data": {
      "text/plain": [
       "['Jacob', 'Solarin']"
      ]
     },
     "execution_count": 32,
     "metadata": {},
     "output_type": "execute_result"
    }
   ],
   "source": [
    "my_dict['class_c']"
   ]
  },
  {
   "cell_type": "code",
   "execution_count": 33,
   "id": "67be5bea",
   "metadata": {},
   "outputs": [
    {
     "data": {
      "text/plain": [
       "['Chika', 'Sophie']"
      ]
     },
     "execution_count": 33,
     "metadata": {},
     "output_type": "execute_result"
    }
   ],
   "source": [
    "my_dict['class_b']"
   ]
  },
  {
   "cell_type": "code",
   "execution_count": null,
   "id": "52f761ef",
   "metadata": {},
   "outputs": [],
   "source": [
    "my_dict['class_d'].append('Opeyemi')"
   ]
  },
  {
   "cell_type": "code",
   "execution_count": 35,
   "id": "f84c9102",
   "metadata": {},
   "outputs": [
    {
     "data": {
      "text/plain": [
       "{'class_a': ['Adetola', 'Ayisat'],\n",
       " 'class_b': ['Chika', 'Sophie'],\n",
       " 'class_c': ['Jacob', 'Solarin'],\n",
       " 'class_d': ['Uche', 'Teddy', 'Opeyemi']}"
      ]
     },
     "execution_count": 35,
     "metadata": {},
     "output_type": "execute_result"
    }
   ],
   "source": [
    "my_dict"
   ]
  },
  {
   "cell_type": "code",
   "execution_count": 37,
   "id": "62dedd68",
   "metadata": {},
   "outputs": [],
   "source": [
    "my_dict['class_d'].remove('Opeyemi')"
   ]
  },
  {
   "cell_type": "code",
   "execution_count": 38,
   "id": "e14fa1c1",
   "metadata": {},
   "outputs": [
    {
     "data": {
      "text/plain": [
       "{'class_a': ['Adetola', 'Ayisat'],\n",
       " 'class_b': ['Chika', 'Sophie'],\n",
       " 'class_c': ['Jacob', 'Solarin'],\n",
       " 'class_d': ['Uche', 'Teddy']}"
      ]
     },
     "execution_count": 38,
     "metadata": {},
     "output_type": "execute_result"
    }
   ],
   "source": [
    "my_dict"
   ]
  },
  {
   "cell_type": "code",
   "execution_count": 41,
   "id": "bb2a86f5",
   "metadata": {},
   "outputs": [],
   "source": [
    "my_dict.update({'class_e': 'Opeyemi'})"
   ]
  },
  {
   "cell_type": "code",
   "execution_count": 40,
   "id": "87d313d2",
   "metadata": {},
   "outputs": [
    {
     "data": {
      "text/plain": [
       "{'class_a': ['Adetola', 'Ayisat'],\n",
       " 'class_b': ['Chika', 'Sophie'],\n",
       " 'class_c': ['Jacob', 'Solarin'],\n",
       " 'class_d': ['Uche', 'Teddy'],\n",
       " 'class_e': 'Opeyemi'}"
      ]
     },
     "execution_count": 40,
     "metadata": {},
     "output_type": "execute_result"
    }
   ],
   "source": [
    "my_dict"
   ]
  },
  {
   "cell_type": "code",
   "execution_count": 42,
   "id": "38b3da1d",
   "metadata": {},
   "outputs": [
    {
     "data": {
      "text/plain": [
       "['Adetola', 'Ayisat']"
      ]
     },
     "execution_count": 42,
     "metadata": {},
     "output_type": "execute_result"
    }
   ],
   "source": [
    "my_dict['class_a']"
   ]
  },
  {
   "cell_type": "code",
   "execution_count": 45,
   "id": "8715e0a3",
   "metadata": {},
   "outputs": [],
   "source": [
    "my_dict['class_e'] = ['Opeyemi', 'Gabriel']"
   ]
  },
  {
   "cell_type": "code",
   "execution_count": 46,
   "id": "2b303a01",
   "metadata": {},
   "outputs": [
    {
     "data": {
      "text/plain": [
       "{'class_a': ['Adetola', 'Ayisat'],\n",
       " 'class_b': ['Chika', 'Sophie'],\n",
       " 'class_c': ['Jacob', 'Solarin'],\n",
       " 'class_d': ['Uche', 'Teddy'],\n",
       " 'class_e': ['Opeyemi', 'Gabriel']}"
      ]
     },
     "execution_count": 46,
     "metadata": {},
     "output_type": "execute_result"
    }
   ],
   "source": [
    "my_dict"
   ]
  },
  {
   "cell_type": "code",
   "execution_count": 47,
   "id": "1be36796",
   "metadata": {},
   "outputs": [
    {
     "ename": "KeyError",
     "evalue": "'class_f'",
     "output_type": "error",
     "traceback": [
      "\u001b[1;31m---------------------------------------------------------------------------\u001b[0m",
      "\u001b[1;31mKeyError\u001b[0m                                  Traceback (most recent call last)",
      "Cell \u001b[1;32mIn[47], line 1\u001b[0m\n\u001b[1;32m----> 1\u001b[0m \u001b[43mmy_dict\u001b[49m\u001b[43m[\u001b[49m\u001b[38;5;124;43m'\u001b[39;49m\u001b[38;5;124;43mclass_f\u001b[39;49m\u001b[38;5;124;43m'\u001b[39;49m\u001b[43m]\u001b[49m\n",
      "\u001b[1;31mKeyError\u001b[0m: 'class_f'"
     ]
    }
   ],
   "source": [
    "my_dict['class_f']"
   ]
  },
  {
   "cell_type": "code",
   "execution_count": 48,
   "id": "4f9e5c8e",
   "metadata": {},
   "outputs": [],
   "source": [
    "my_dict.get('class_f') "
   ]
  },
  {
   "cell_type": "code",
   "execution_count": 49,
   "id": "c0881936",
   "metadata": {},
   "outputs": [
    {
     "data": {
      "text/plain": [
       "['Jacob', 'Solarin']"
      ]
     },
     "execution_count": 49,
     "metadata": {},
     "output_type": "execute_result"
    }
   ],
   "source": [
    "my_dict.get('class_c')"
   ]
  },
  {
   "cell_type": "code",
   "execution_count": 53,
   "id": "728e1158",
   "metadata": {},
   "outputs": [
    {
     "data": {
      "text/plain": [
       "{'class_a': ['Adetola', 'Ayisat'],\n",
       " 'class_b': ['Chika', 'Sophie'],\n",
       " 'class_c': ['Jacob', 'Solarin'],\n",
       " 'class_d': ['Uche', 'Teddy'],\n",
       " 'class_e': ['Opeyemi', 'Gabriel']}"
      ]
     },
     "execution_count": 53,
     "metadata": {},
     "output_type": "execute_result"
    }
   ],
   "source": [
    "my_dict"
   ]
  },
  {
   "cell_type": "code",
   "execution_count": 50,
   "id": "1e8f31b0",
   "metadata": {},
   "outputs": [
    {
     "data": {
      "text/plain": [
       "dict_keys(['class_a', 'class_b', 'class_c', 'class_d', 'class_e'])"
      ]
     },
     "execution_count": 50,
     "metadata": {},
     "output_type": "execute_result"
    }
   ],
   "source": [
    "my_dict.keys()"
   ]
  },
  {
   "cell_type": "code",
   "execution_count": 52,
   "id": "349209bb",
   "metadata": {},
   "outputs": [
    {
     "data": {
      "text/plain": [
       "dict_values([['Adetola', 'Ayisat'], ['Chika', 'Sophie'], ['Jacob', 'Solarin'], ['Uche', 'Teddy'], ['Opeyemi', 'Gabriel']])"
      ]
     },
     "execution_count": 52,
     "metadata": {},
     "output_type": "execute_result"
    }
   ],
   "source": [
    "my_dict.values()"
   ]
  },
  {
   "cell_type": "code",
   "execution_count": 55,
   "id": "b8f35fed",
   "metadata": {},
   "outputs": [],
   "source": [
    "class_a = ['Adetola', 'Ayisat']\n",
    "class_b = ['Chika', 'Sophie']\n",
    "class_c = ['Jacob', 'Solarin']\n",
    "class_d = ['Uche', 'Teddy']\n",
    "class_e = ['Opeyemi', 'Gabriel']"
   ]
  },
  {
   "cell_type": "code",
   "execution_count": 56,
   "id": "205d82e7",
   "metadata": {},
   "outputs": [],
   "source": [
    "all_classes = [class_a, class_b, class_c, class_d, class_e]"
   ]
  },
  {
   "cell_type": "code",
   "execution_count": 57,
   "id": "2408b84e",
   "metadata": {},
   "outputs": [
    {
     "data": {
      "text/plain": [
       "[['Adetola', 'Ayisat'],\n",
       " ['Chika', 'Sophie'],\n",
       " ['Jacob', 'Solarin'],\n",
       " ['Uche', 'Teddy'],\n",
       " ['Opeyemi', 'Gabriel']]"
      ]
     },
     "execution_count": 57,
     "metadata": {},
     "output_type": "execute_result"
    }
   ],
   "source": [
    "all_classes"
   ]
  },
  {
   "cell_type": "code",
   "execution_count": 58,
   "id": "01f3e073",
   "metadata": {},
   "outputs": [
    {
     "name": "stderr",
     "output_type": "stream",
     "text": [
      "<>:1: SyntaxWarning: 'list' object is not callable; perhaps you missed a comma?\n",
      "<>:1: SyntaxWarning: 'list' object is not callable; perhaps you missed a comma?\n",
      "C:\\Users\\Admin\\AppData\\Local\\Temp\\ipykernel_22164\\934016468.py:1: SyntaxWarning: 'list' object is not callable; perhaps you missed a comma?\n",
      "  all_classes= [class_c](1)\n"
     ]
    },
    {
     "ename": "TypeError",
     "evalue": "'list' object is not callable",
     "output_type": "error",
     "traceback": [
      "\u001b[1;31m---------------------------------------------------------------------------\u001b[0m",
      "\u001b[1;31mTypeError\u001b[0m                                 Traceback (most recent call last)",
      "Cell \u001b[1;32mIn[58], line 1\u001b[0m\n\u001b[1;32m----> 1\u001b[0m all_classes\u001b[38;5;241m=\u001b[39m \u001b[43m[\u001b[49m\u001b[43mclass_c\u001b[49m\u001b[43m]\u001b[49m\u001b[43m(\u001b[49m\u001b[38;5;241;43m1\u001b[39;49m\u001b[43m)\u001b[49m\n",
      "\u001b[1;31mTypeError\u001b[0m: 'list' object is not callable"
     ]
    }
   ],
   "source": [
    "all_classes= [class_c](1)"
   ]
  },
  {
   "cell_type": "code",
   "execution_count": 59,
   "id": "75f39342",
   "metadata": {},
   "outputs": [],
   "source": [
    "all_classes = [['Adetola', 'Ayisat'],\n",
    "               ['Chika', 'Sophie'],\n",
    "               ['Jacob', 'Solarin'],\n",
    "               ['Uche', 'Teddy'],\n",
    "               ['Opeyemi', 'Gabriel']]"
   ]
  },
  {
   "cell_type": "code",
   "execution_count": 60,
   "id": "d62df3b9",
   "metadata": {},
   "outputs": [
    {
     "data": {
      "text/plain": [
       "[['Adetola', 'Ayisat'],\n",
       " ['Chika', 'Sophie'],\n",
       " ['Jacob', 'Solarin'],\n",
       " ['Uche', 'Teddy'],\n",
       " ['Opeyemi', 'Gabriel']]"
      ]
     },
     "execution_count": 60,
     "metadata": {},
     "output_type": "execute_result"
    }
   ],
   "source": [
    "all_classes"
   ]
  },
  {
   "cell_type": "code",
   "execution_count": 63,
   "id": "405b9be1",
   "metadata": {},
   "outputs": [
    {
     "data": {
      "text/plain": [
       "['Jacob', 'Solarin']"
      ]
     },
     "execution_count": 63,
     "metadata": {},
     "output_type": "execute_result"
    }
   ],
   "source": [
    "all_classes[2]"
   ]
  },
  {
   "cell_type": "code",
   "execution_count": 64,
   "id": "27bdd95b",
   "metadata": {},
   "outputs": [
    {
     "data": {
      "text/plain": [
       "'Solarin'"
      ]
     },
     "execution_count": 64,
     "metadata": {},
     "output_type": "execute_result"
    }
   ],
   "source": [
    "all_classes[2][1]"
   ]
  },
  {
   "cell_type": "code",
   "execution_count": 65,
   "id": "2911b62c",
   "metadata": {},
   "outputs": [],
   "source": [
    "all_classes = [class_a, class_b, class_c, class_d, class_e]"
   ]
  },
  {
   "cell_type": "code",
   "execution_count": 66,
   "id": "3aca2ad2",
   "metadata": {},
   "outputs": [],
   "source": [
    "my_name = \"James Teddy\""
   ]
  },
  {
   "cell_type": "code",
   "execution_count": 68,
   "id": "6616060c",
   "metadata": {},
   "outputs": [
    {
     "data": {
      "text/plain": [
       "'James Teddy'"
      ]
     },
     "execution_count": 68,
     "metadata": {},
     "output_type": "execute_result"
    }
   ],
   "source": [
    "my_name"
   ]
  },
  {
   "cell_type": "code",
   "execution_count": 69,
   "id": "0816c8ff",
   "metadata": {},
   "outputs": [],
   "source": [
    "all_classes = [class_a, class_b, class_c, class_d, class_e]"
   ]
  },
  {
   "cell_type": "code",
   "execution_count": 71,
   "id": "396f1f38",
   "metadata": {},
   "outputs": [
    {
     "data": {
      "text/plain": [
       "'Solarin'"
      ]
     },
     "execution_count": 71,
     "metadata": {},
     "output_type": "execute_result"
    }
   ],
   "source": [
    "all_classes[2][1]"
   ]
  },
  {
   "cell_type": "code",
   "execution_count": 72,
   "id": "5c56bf47",
   "metadata": {},
   "outputs": [
    {
     "data": {
      "text/plain": [
       "[['Adetola', 'Ayisat'],\n",
       " ['Chika', 'Sophie'],\n",
       " ['Jacob', 'Solarin'],\n",
       " ['Uche', 'Teddy'],\n",
       " ['Opeyemi', 'Gabriel']]"
      ]
     },
     "execution_count": 72,
     "metadata": {},
     "output_type": "execute_result"
    }
   ],
   "source": [
    "all_classes"
   ]
  },
  {
   "cell_type": "code",
   "execution_count": 73,
   "id": "c7f07f1a",
   "metadata": {},
   "outputs": [
    {
     "data": {
      "text/plain": [
       "{'class_a': ['Adetola', 'Ayisat'],\n",
       " 'class_b': ['Chika', 'Sophie'],\n",
       " 'class_c': ['Jacob', 'Solarin'],\n",
       " 'class_d': ['Uche', 'Teddy'],\n",
       " 'class_e': ['Opeyemi', 'Gabriel']}"
      ]
     },
     "execution_count": 73,
     "metadata": {},
     "output_type": "execute_result"
    }
   ],
   "source": [
    "my_dict"
   ]
  },
  {
   "cell_type": "code",
   "execution_count": 74,
   "id": "5dfa2376",
   "metadata": {},
   "outputs": [
    {
     "data": {
      "text/plain": [
       "['Jacob', 'Solarin']"
      ]
     },
     "execution_count": 74,
     "metadata": {},
     "output_type": "execute_result"
    }
   ],
   "source": [
    "my_dict['class_c']"
   ]
  },
  {
   "cell_type": "code",
   "execution_count": 75,
   "id": "f7492925",
   "metadata": {},
   "outputs": [
    {
     "data": {
      "text/plain": [
       "'Solarin'"
      ]
     },
     "execution_count": 75,
     "metadata": {},
     "output_type": "execute_result"
    }
   ],
   "source": [
    "my_dict['class_c'][1]"
   ]
  },
  {
   "cell_type": "code",
   "execution_count": 76,
   "id": "cd98dfba",
   "metadata": {},
   "outputs": [
    {
     "data": {
      "text/plain": [
       "'Solarin'"
      ]
     },
     "execution_count": 76,
     "metadata": {},
     "output_type": "execute_result"
    }
   ],
   "source": [
    "my_dict.get('class_c')[1]"
   ]
  },
  {
   "cell_type": "code",
   "execution_count": null,
   "id": "5ee82ce2",
   "metadata": {},
   "outputs": [],
   "source": []
  }
 ],
 "metadata": {
  "kernelspec": {
   "display_name": "Python 3",
   "language": "python",
   "name": "python3"
  },
  "language_info": {
   "codemirror_mode": {
    "name": "ipython",
    "version": 3
   },
   "file_extension": ".py",
   "mimetype": "text/x-python",
   "name": "python",
   "nbconvert_exporter": "python",
   "pygments_lexer": "ipython3",
   "version": "3.12.4"
  }
 },
 "nbformat": 4,
 "nbformat_minor": 5
}
